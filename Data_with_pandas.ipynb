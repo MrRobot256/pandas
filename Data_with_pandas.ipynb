{
 "cells": [
  {
   "cell_type": "code",
   "execution_count": 81,
   "metadata": {},
   "outputs": [],
   "source": [
    "import pandas as pd"
   ]
  },
  {
   "cell_type": "code",
   "execution_count": 82,
   "metadata": {},
   "outputs": [],
   "source": [
    "path = '/Users/ivansviridov/Documents/Netology_py_dev/data/names'"
   ]
  },
  {
   "cell_type": "code",
   "execution_count": 83,
   "metadata": {},
   "outputs": [],
   "source": [
    "def count_top3(*years):\n",
    "    list_for_concat = []\n",
    "    for year in years:\n",
    "        df = pd.read_csv(path+'/yob'+str(year)+'.txt', names=['Names', 'Gender', 'Count'])\n",
    "        list_for_concat.append(df)\n",
    "    df_res = pd.concat(list_for_concat)\n",
    "    df_res = df_res.groupby(['Names']).sum()[['Count']]\n",
    "    return df_res.nlargest(3, ['Count']).index[0:4].values"
   ]
  },
  {
   "cell_type": "code",
   "execution_count": 84,
   "metadata": {},
   "outputs": [
    {
     "name": "stdout",
     "output_type": "stream",
     "text": [
      "['Michael' 'Matthew' 'Jacob']\n"
     ]
    }
   ],
   "source": [
    "print(count_top3(1992, 1998, 1999))"
   ]
  },
  {
   "cell_type": "code",
   "execution_count": 85,
   "metadata": {},
   "outputs": [],
   "source": [
    "def count_dynamics(*years):\n",
    "    data = {'M': [], 'F': []}\n",
    "    for year in years:\n",
    "        df = pd.read_csv(path+'/yob'+str(year)+'.txt', names=['Names', 'Gender', 'Count'])\n",
    "        data['M'].append(df[df['Gender']=='M'].sum()['Count'])\n",
    "        data['F'].append(df[df['Gender']=='F'].sum()['Count'])\n",
    "    return data"
   ]
  },
  {
   "cell_type": "code",
   "execution_count": 86,
   "metadata": {},
   "outputs": [
    {
     "data": {
      "text/plain": [
       "{'M': [2053109, 2019815, 1996771], 'F': [1898135, 1874716, 1843567]}"
      ]
     },
     "execution_count": 86,
     "metadata": {},
     "output_type": "execute_result"
    }
   ],
   "source": [
    "count_dynamics(1990, 1991, 1992)"
   ]
  },
  {
   "cell_type": "code",
   "execution_count": null,
   "metadata": {},
   "outputs": [],
   "source": []
  }
 ],
 "metadata": {
  "kernelspec": {
   "display_name": "Python 3",
   "language": "python",
   "name": "python3"
  },
  "language_info": {
   "codemirror_mode": {
    "name": "ipython",
    "version": 3
   },
   "file_extension": ".py",
   "mimetype": "text/x-python",
   "name": "python",
   "nbconvert_exporter": "python",
   "pygments_lexer": "ipython3",
   "version": "3.7.4"
  }
 },
 "nbformat": 4,
 "nbformat_minor": 2
}
